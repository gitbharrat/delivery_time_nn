{
 "cells": [
  {
   "cell_type": "markdown",
   "id": "2dfffec1-7499-4aaf-8196-e60c8f5fafb4",
   "metadata": {},
   "source": [
    "# **Delivery Time Estimation**"
   ]
  },
  {
   "cell_type": "markdown",
   "id": "11b2518d-b6f8-4341-9f04-dde233df5bd8",
   "metadata": {},
   "source": [
    "#### **Problem**\n",
    "\n",
    "The business wants to evaluate the Estimated Delivery Time on the basis of\n",
    "- What they are ordering?\n",
    "- From Where they are ordering\n",
    "- The availibilty of Delivery Partners\n",
    "- etc\n",
    "\n",
    "I'll explore the data to find hidden stories and since this is a Regression task, I'll use Neural Networks to estimate the same."
   ]
  },
  {
   "cell_type": "code",
   "execution_count": 14,
   "id": "51a206b6-ce37-4492-9bba-26c8a622bcf8",
   "metadata": {
    "tags": []
   },
   "outputs": [],
   "source": [
    "# Importing required libraries\n",
    "from pyspark.sql import SparkSession\n",
    "from numba import jit"
   ]
  },
  {
   "cell_type": "code",
   "execution_count": 13,
   "id": "edb9ac93-2fdf-4323-97ac-5c1619b1cce3",
   "metadata": {
    "tags": []
   },
   "outputs": [],
   "source": [
    "# Pyspark Java Setup\n",
    "import os\n",
    "\n",
    "# Set the JAVA_HOME environment variable\n",
    "os.environ['JAVA_HOME'] = '/home/studio-lab-user/.conda/envs/delivery_time_torch'\n",
    "os.environ['PATH'] = os.environ['JAVA_HOME'] + '/bin:' + os.environ['PATH']"
   ]
  },
  {
   "cell_type": "code",
   "execution_count": 15,
   "id": "69a72772-29b5-4585-819a-37b5fc7af076",
   "metadata": {
    "tags": []
   },
   "outputs": [
    {
     "name": "stderr",
     "output_type": "stream",
     "text": [
      "Setting default log level to \"WARN\".\n",
      "To adjust logging level use sc.setLogLevel(newLevel). For SparkR, use setLogLevel(newLevel).\n",
      "24/05/27 09:36:59 WARN NativeCodeLoader: Unable to load native-hadoop library for your platform... using builtin-java classes where applicable\n",
      "24/05/27 09:37:10 WARN GarbageCollectionMetrics: To enable non-built-in garbage collector(s) List(G1 Concurrent GC), users should configure it(them) to spark.eventLog.gcMetrics.youngGenerationGarbageCollectors or spark.eventLog.gcMetrics.oldGenerationGarbageCollectors\n"
     ]
    }
   ],
   "source": [
    "# Initiallizing Spark Session\n",
    "spark = SparkSession.builder.master(\"local[*]\").getOrCreate()"
   ]
  },
  {
   "cell_type": "code",
   "execution_count": 30,
   "id": "9eef6357-1ebb-4b2b-8f71-0d8aba730d0f",
   "metadata": {
    "tags": []
   },
   "outputs": [],
   "source": [
    "\n",
    "# Adjust Spark session settings to improve display\n",
    "spark.conf.set(\"spark.sql.repl.eagerEval.maxNumRows\", 20)\n",
    "spark.conf.set(\"spark.sql.repl.eagerEval.truncate\", 100)\n",
    "spark.conf.set(\"spark.sql.repl.eagerEval.enabled\",True)"
   ]
  },
  {
   "cell_type": "code",
   "execution_count": 37,
   "id": "9eb4f477-8536-40fe-9900-9d862b1abfde",
   "metadata": {
    "tags": []
   },
   "outputs": [
    {
     "data": {
      "text/html": [
       "<table border='1'>\n",
       "<tr><th>market_id</th><th>created_at</th><th>actual_delivery_time</th><th>store_id</th><th>store_primary_category</th><th>order_protocol</th><th>total_items</th><th>subtotal</th><th>num_distinct_items</th><th>min_item_price</th><th>max_item_price</th><th>total_onshift_partners</th><th>total_busy_partners</th><th>total_outstanding_orders</th></tr>\n",
       "<tr><td>1.0</td><td>2015-02-06 22:24:17</td><td>2015-02-06 23:27:16</td><td>df263d996281d984952c07998dc54358</td><td>american</td><td>1.0</td><td>4</td><td>3441</td><td>4</td><td>557</td><td>1239</td><td>33.0</td><td>14.0</td><td>21.0</td></tr>\n",
       "<tr><td>2.0</td><td>2015-02-10 21:49:25</td><td>2015-02-10 22:56:29</td><td>f0ade77b43923b38237db569b016ba25</td><td>mexican</td><td>2.0</td><td>1</td><td>1900</td><td>1</td><td>1400</td><td>1400</td><td>1.0</td><td>2.0</td><td>2.0</td></tr>\n",
       "<tr><td>3.0</td><td>2015-01-22 20:39:28</td><td>2015-01-22 21:09:09</td><td>f0ade77b43923b38237db569b016ba25</td><td>NULL</td><td>1.0</td><td>1</td><td>1900</td><td>1</td><td>1900</td><td>1900</td><td>1.0</td><td>0.0</td><td>0.0</td></tr>\n",
       "<tr><td>3.0</td><td>2015-02-03 21:21:45</td><td>2015-02-03 22:13:00</td><td>f0ade77b43923b38237db569b016ba25</td><td>NULL</td><td>1.0</td><td>6</td><td>6900</td><td>5</td><td>600</td><td>1800</td><td>1.0</td><td>1.0</td><td>2.0</td></tr>\n",
       "<tr><td>3.0</td><td>2015-02-15 02:40:36</td><td>2015-02-15 03:20:26</td><td>f0ade77b43923b38237db569b016ba25</td><td>NULL</td><td>1.0</td><td>3</td><td>3900</td><td>3</td><td>1100</td><td>1600</td><td>6.0</td><td>6.0</td><td>9.0</td></tr>\n",
       "</table>\n"
      ],
      "text/plain": [
       "+---------+-------------------+--------------------+--------------------------------+----------------------+--------------+-----------+--------+------------------+--------------+--------------+----------------------+-------------------+------------------------+\n",
       "|market_id|         created_at|actual_delivery_time|                        store_id|store_primary_category|order_protocol|total_items|subtotal|num_distinct_items|min_item_price|max_item_price|total_onshift_partners|total_busy_partners|total_outstanding_orders|\n",
       "+---------+-------------------+--------------------+--------------------------------+----------------------+--------------+-----------+--------+------------------+--------------+--------------+----------------------+-------------------+------------------------+\n",
       "|      1.0|2015-02-06 22:24:17| 2015-02-06 23:27:16|df263d996281d984952c07998dc54358|              american|           1.0|          4|    3441|                 4|           557|          1239|                  33.0|               14.0|                    21.0|\n",
       "|      2.0|2015-02-10 21:49:25| 2015-02-10 22:56:29|f0ade77b43923b38237db569b016ba25|               mexican|           2.0|          1|    1900|                 1|          1400|          1400|                   1.0|                2.0|                     2.0|\n",
       "|      3.0|2015-01-22 20:39:28| 2015-01-22 21:09:09|f0ade77b43923b38237db569b016ba25|                  NULL|           1.0|          1|    1900|                 1|          1900|          1900|                   1.0|                0.0|                     0.0|\n",
       "|      3.0|2015-02-03 21:21:45| 2015-02-03 22:13:00|f0ade77b43923b38237db569b016ba25|                  NULL|           1.0|          6|    6900|                 5|           600|          1800|                   1.0|                1.0|                     2.0|\n",
       "|      3.0|2015-02-15 02:40:36| 2015-02-15 03:20:26|f0ade77b43923b38237db569b016ba25|                  NULL|           1.0|          3|    3900|                 3|          1100|          1600|                   6.0|                6.0|                     9.0|\n",
       "+---------+-------------------+--------------------+--------------------------------+----------------------+--------------+-----------+--------+------------------+--------------+--------------+----------------------+-------------------+------------------------+"
      ]
     },
     "execution_count": 37,
     "metadata": {},
     "output_type": "execute_result"
    }
   ],
   "source": [
    "# Investigating Dataset\n",
    "df = spark.read.csv('../data/raw/data.csv', header=True, inferSchema=True)\n",
    "df.limit(5)"
   ]
  },
  {
   "cell_type": "code",
   "execution_count": 8,
   "id": "7434135e-1a5f-4372-ab79-bc93ba4e56ad",
   "metadata": {
    "tags": []
   },
   "outputs": [
    {
     "data": {
      "text/plain": [
       "(197428, 14)"
      ]
     },
     "execution_count": 8,
     "metadata": {},
     "output_type": "execute_result"
    }
   ],
   "source": [
    "# Shape of the dataset\n",
    "df.shape"
   ]
  },
  {
   "cell_type": "markdown",
   "id": "38bf7c92-0b2f-46ee-831e-8738c3fe4c11",
   "metadata": {},
   "source": [
    "**Observe**\n",
    "- We have 14 features and almost 200K datapoints\n",
    "- Data seems to be small"
   ]
  },
  {
   "cell_type": "code",
   "execution_count": null,
   "id": "17de39e0-7d36-4e85-9cc1-cc434a85560f",
   "metadata": {},
   "outputs": [],
   "source": []
  }
 ],
 "metadata": {
  "kernelspec": {
   "display_name": "delivery_time_torch:Python",
   "language": "python",
   "name": "conda-env-delivery_time_torch-py"
  },
  "language_info": {
   "codemirror_mode": {
    "name": "ipython",
    "version": 3
   },
   "file_extension": ".py",
   "mimetype": "text/x-python",
   "name": "python",
   "nbconvert_exporter": "python",
   "pygments_lexer": "ipython3",
   "version": "3.9.19"
  }
 },
 "nbformat": 4,
 "nbformat_minor": 5
}
